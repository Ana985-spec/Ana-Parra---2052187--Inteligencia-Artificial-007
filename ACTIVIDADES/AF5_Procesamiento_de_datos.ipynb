Integrantes:

Blas Eduardo Escobar Rodríguez 1903990 N5

Gael Guevara Puente 2049066 N5

Ana Camila Parra Aguilar 2052187 N5

Christopher Daniel Candelario López 2001039 N5

Jonathan Gonzalez Zuñiga 2108162 N5
